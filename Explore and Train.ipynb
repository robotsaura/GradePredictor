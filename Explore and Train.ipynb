{
 "cells": [
  {
   "cell_type": "code",
   "execution_count": 6,
   "id": "6fd12dba",
   "metadata": {},
   "outputs": [
    {
     "name": "stdout",
     "output_type": "stream",
     "text": [
      "   id_student  test1  test2  test3  test4  final  pass\n",
      "0      650565    5.1    9.6  16.10  12.95  43.75     0\n",
      "1      679716    6.0    9.6  21.00  16.80  53.40     1\n",
      "2      126769    4.0    8.0  21.00  21.00  54.00     1\n",
      "3      653762    5.5   12.4  20.30  22.75  60.95     0\n",
      "4      687037    7.6   13.4  24.85  25.20  71.05     1\n",
      "id_student    0\n",
      "test1         0\n",
      "test2         0\n",
      "test3         0\n",
      "test4         0\n",
      "final         0\n",
      "pass          0\n",
      "dtype: int64\n",
      "         id_student       test1       test2       test3       test4  \\\n",
      "count  6.000000e+02  600.000000  600.000000  600.000000  600.000000   \n",
      "mean   6.848843e+05    6.406833   12.484667   21.551833   21.786333   \n",
      "std    4.441751e+05    1.354238    2.867077    4.984342    5.293458   \n",
      "min    3.293000e+04    3.800000    0.000000    2.450000    5.250000   \n",
      "25%    5.738300e+05    5.500000   10.950000   18.550000   18.200000   \n",
      "50%    6.467785e+05    6.500000   12.800000   21.700000   22.400000   \n",
      "75%    6.837522e+05    7.400000   14.600000   24.500000   25.550000   \n",
      "max    2.698577e+06    9.700000   19.000000   34.300000   34.300000   \n",
      "\n",
      "            final        pass  \n",
      "count  600.000000  600.000000  \n",
      "mean    62.229667    0.496667  \n",
      "std     12.308449    0.500406  \n",
      "min     33.050000    0.000000  \n",
      "25%     53.000000    0.000000  \n",
      "50%     63.850000    0.000000  \n",
      "75%     71.412500    1.000000  \n",
      "max     92.900000    1.000000  \n"
     ]
    }
   ],
   "source": [
    "import pandas as pd\n",
    "\n",
    "# Load the datasets\n",
    "train_data = pd.read_csv('CQ4_train.csv')\n",
    "test_data = pd.read_csv('CQ4_test.csv')\n",
    "val_data = pd.read_csv('CQ4_val.csv')\n",
    "\n",
    "# Display the first few rows of the training data\n",
    "print(train_data.head())\n",
    "\n",
    "# Check for missing values\n",
    "print(train_data.isnull().sum())\n",
    "\n",
    "# Basic statistics\n",
    "print(train_data.describe())\n"
   ]
  },
  {
   "cell_type": "code",
   "execution_count": 7,
   "id": "48177146",
   "metadata": {},
   "outputs": [],
   "source": [
    "# Features and target\n",
    "X_train = train_data[['test1', 'test2', 'test3', 'test4']]\n",
    "y_train = train_data['pass']\n",
    "\n",
    "X_val = val_data[['test1', 'test2', 'test3', 'test4']]\n",
    "y_val = val_data['pass']\n",
    "\n",
    "X_test = test_data[['test1', 'test2', 'test3', 'test4']]\n",
    "y_test = test_data['pass']\n"
   ]
  },
  {
   "cell_type": "code",
   "execution_count": 8,
   "id": "cd6822f8",
   "metadata": {},
   "outputs": [
    {
     "name": "stdout",
     "output_type": "stream",
     "text": [
      "Validation Accuracy: 0.655\n",
      "Confusion Matrix:\n",
      "[[68 34]\n",
      " [35 63]]\n",
      "Classification Report:\n",
      "              precision    recall  f1-score   support\n",
      "\n",
      "           0       0.66      0.67      0.66       102\n",
      "           1       0.65      0.64      0.65        98\n",
      "\n",
      "    accuracy                           0.66       200\n",
      "   macro avg       0.65      0.65      0.65       200\n",
      "weighted avg       0.65      0.66      0.65       200\n",
      "\n"
     ]
    }
   ],
   "source": [
    "from sklearn.linear_model import LogisticRegression\n",
    "from sklearn.metrics import accuracy_score, confusion_matrix, classification_report\n",
    "\n",
    "# Initialize the model\n",
    "model = LogisticRegression(random_state=42)\n",
    "\n",
    "# Fit the model\n",
    "model.fit(X_train, y_train)\n",
    "\n",
    "# Evaluate on the validation set\n",
    "y_val_pred = model.predict(X_val)\n",
    "\n",
    "# Metrics\n",
    "val_accuracy = accuracy_score(y_val, y_val_pred)\n",
    "val_conf_matrix = confusion_matrix(y_val, y_val_pred)\n",
    "val_class_report = classification_report(y_val, y_val_pred)\n",
    "\n",
    "print(f'Validation Accuracy: {val_accuracy}')\n",
    "print('Confusion Matrix:')\n",
    "print(val_conf_matrix)\n",
    "print('Classification Report:')\n",
    "print(val_class_report)\n"
   ]
  },
  {
   "cell_type": "code",
   "execution_count": 9,
   "id": "d999795a",
   "metadata": {},
   "outputs": [
    {
     "name": "stdout",
     "output_type": "stream",
     "text": [
      "Validation Accuracy: 0.89\n",
      "Confusion Matrix:\n",
      "[[101   1]\n",
      " [ 21  77]]\n",
      "Classification Report:\n",
      "              precision    recall  f1-score   support\n",
      "\n",
      "           0       0.83      0.99      0.90       102\n",
      "           1       0.99      0.79      0.88        98\n",
      "\n",
      "    accuracy                           0.89       200\n",
      "   macro avg       0.91      0.89      0.89       200\n",
      "weighted avg       0.91      0.89      0.89       200\n",
      "\n"
     ]
    }
   ],
   "source": [
    "from sklearn.ensemble import RandomForestClassifier\n",
    "from sklearn.metrics import accuracy_score, confusion_matrix, classification_report\n",
    "\n",
    "# Initialize the model\n",
    "model = RandomForestClassifier(random_state=42)\n",
    "\n",
    "# Fit the model\n",
    "model.fit(X_train, y_train)\n",
    "\n",
    "# Evaluate on the validation set\n",
    "y_val_pred = model.predict(X_val)\n",
    "\n",
    "# Metrics\n",
    "val_accuracy = accuracy_score(y_val, y_val_pred)\n",
    "val_conf_matrix = confusion_matrix(y_val, y_val_pred)\n",
    "val_class_report = classification_report(y_val, y_val_pred)\n",
    "\n",
    "print(f'Validation Accuracy: {val_accuracy}')\n",
    "print('Confusion Matrix:')\n",
    "print(val_conf_matrix)\n",
    "print('Classification Report:')\n",
    "print(val_class_report)\n"
   ]
  },
  {
   "cell_type": "code",
   "execution_count": 10,
   "id": "70cf184e",
   "metadata": {},
   "outputs": [
    {
     "name": "stdout",
     "output_type": "stream",
     "text": [
      "Validation Accuracy: 0.89\n"
     ]
    }
   ],
   "source": [
    "# Example of changing parameters\n",
    "model = RandomForestClassifier(n_estimators=150, max_depth=20, random_state=42)\n",
    "model.fit(X_train, y_train)\n",
    "y_val_pred = model.predict(X_val)\n",
    "\n",
    "# Re-evaluate\n",
    "val_accuracy = accuracy_score(y_val, y_val_pred)\n",
    "print(f'Validation Accuracy: {val_accuracy}')\n"
   ]
  },
  {
   "cell_type": "code",
   "execution_count": 11,
   "id": "d462a86a",
   "metadata": {},
   "outputs": [
    {
     "name": "stdout",
     "output_type": "stream",
     "text": [
      "Test Accuracy: 0.9\n",
      "Confusion Matrix:\n",
      "[[102   2]\n",
      " [ 18  78]]\n",
      "Classification Report:\n",
      "              precision    recall  f1-score   support\n",
      "\n",
      "           0       0.85      0.98      0.91       104\n",
      "           1       0.97      0.81      0.89        96\n",
      "\n",
      "    accuracy                           0.90       200\n",
      "   macro avg       0.91      0.90      0.90       200\n",
      "weighted avg       0.91      0.90      0.90       200\n",
      "\n"
     ]
    }
   ],
   "source": [
    "y_test_pred = model.predict(X_test)\n",
    "test_accuracy = accuracy_score(y_test, y_test_pred)\n",
    "test_conf_matrix = confusion_matrix(y_test, y_test_pred)\n",
    "test_class_report = classification_report(y_test, y_test_pred)\n",
    "\n",
    "print(f'Test Accuracy: {test_accuracy}')\n",
    "print('Confusion Matrix:')\n",
    "print(test_conf_matrix)\n",
    "print('Classification Report:')\n",
    "print(test_class_report)\n"
   ]
  },
  {
   "cell_type": "code",
   "execution_count": 12,
   "id": "9a70b204",
   "metadata": {},
   "outputs": [
    {
     "data": {
      "text/plain": [
       "['final_model.pkl']"
      ]
     },
     "execution_count": 12,
     "metadata": {},
     "output_type": "execute_result"
    }
   ],
   "source": [
    "import joblib\n",
    "\n",
    "# Save the model\n",
    "joblib.dump(model, 'final_model.pkl')\n",
    "\n",
    "# Save the notebook\n",
    "# In Jupyter, use File -> Download as -> Notebook (.ipynb)\n"
   ]
  },
  {
   "cell_type": "code",
   "execution_count": 15,
   "id": "ffab8277",
   "metadata": {},
   "outputs": [
    {
     "data": {
      "text/html": [
       "<div>\n",
       "<style scoped>\n",
       "    .dataframe tbody tr th:only-of-type {\n",
       "        vertical-align: middle;\n",
       "    }\n",
       "\n",
       "    .dataframe tbody tr th {\n",
       "        vertical-align: top;\n",
       "    }\n",
       "\n",
       "    .dataframe thead th {\n",
       "        text-align: right;\n",
       "    }\n",
       "</style>\n",
       "<table border=\"1\" class=\"dataframe\">\n",
       "  <thead>\n",
       "    <tr style=\"text-align: right;\">\n",
       "      <th></th>\n",
       "      <th>test1</th>\n",
       "      <th>test2</th>\n",
       "      <th>test3</th>\n",
       "      <th>test4</th>\n",
       "    </tr>\n",
       "  </thead>\n",
       "  <tbody>\n",
       "    <tr>\n",
       "      <th>0</th>\n",
       "      <td>7.0</td>\n",
       "      <td>14.0</td>\n",
       "      <td>17.50</td>\n",
       "      <td>26.25</td>\n",
       "    </tr>\n",
       "    <tr>\n",
       "      <th>1</th>\n",
       "      <td>6.0</td>\n",
       "      <td>13.2</td>\n",
       "      <td>25.20</td>\n",
       "      <td>24.15</td>\n",
       "    </tr>\n",
       "    <tr>\n",
       "      <th>2</th>\n",
       "      <td>8.1</td>\n",
       "      <td>14.4</td>\n",
       "      <td>30.10</td>\n",
       "      <td>18.20</td>\n",
       "    </tr>\n",
       "    <tr>\n",
       "      <th>3</th>\n",
       "      <td>5.0</td>\n",
       "      <td>10.0</td>\n",
       "      <td>11.55</td>\n",
       "      <td>14.00</td>\n",
       "    </tr>\n",
       "    <tr>\n",
       "      <th>4</th>\n",
       "      <td>7.0</td>\n",
       "      <td>13.8</td>\n",
       "      <td>22.75</td>\n",
       "      <td>17.50</td>\n",
       "    </tr>\n",
       "    <tr>\n",
       "      <th>...</th>\n",
       "      <td>...</td>\n",
       "      <td>...</td>\n",
       "      <td>...</td>\n",
       "      <td>...</td>\n",
       "    </tr>\n",
       "    <tr>\n",
       "      <th>195</th>\n",
       "      <td>8.1</td>\n",
       "      <td>14.4</td>\n",
       "      <td>25.55</td>\n",
       "      <td>26.25</td>\n",
       "    </tr>\n",
       "    <tr>\n",
       "      <th>196</th>\n",
       "      <td>6.5</td>\n",
       "      <td>12.6</td>\n",
       "      <td>26.25</td>\n",
       "      <td>28.00</td>\n",
       "    </tr>\n",
       "    <tr>\n",
       "      <th>197</th>\n",
       "      <td>4.5</td>\n",
       "      <td>15.4</td>\n",
       "      <td>15.75</td>\n",
       "      <td>25.90</td>\n",
       "    </tr>\n",
       "    <tr>\n",
       "      <th>198</th>\n",
       "      <td>7.9</td>\n",
       "      <td>18.2</td>\n",
       "      <td>30.10</td>\n",
       "      <td>25.55</td>\n",
       "    </tr>\n",
       "    <tr>\n",
       "      <th>199</th>\n",
       "      <td>6.9</td>\n",
       "      <td>8.0</td>\n",
       "      <td>18.55</td>\n",
       "      <td>24.50</td>\n",
       "    </tr>\n",
       "  </tbody>\n",
       "</table>\n",
       "<p>200 rows × 4 columns</p>\n",
       "</div>"
      ],
      "text/plain": [
       "     test1  test2  test3  test4\n",
       "0      7.0   14.0  17.50  26.25\n",
       "1      6.0   13.2  25.20  24.15\n",
       "2      8.1   14.4  30.10  18.20\n",
       "3      5.0   10.0  11.55  14.00\n",
       "4      7.0   13.8  22.75  17.50\n",
       "..     ...    ...    ...    ...\n",
       "195    8.1   14.4  25.55  26.25\n",
       "196    6.5   12.6  26.25  28.00\n",
       "197    4.5   15.4  15.75  25.90\n",
       "198    7.9   18.2  30.10  25.55\n",
       "199    6.9    8.0  18.55  24.50\n",
       "\n",
       "[200 rows x 4 columns]"
      ]
     },
     "execution_count": 15,
     "metadata": {},
     "output_type": "execute_result"
    }
   ],
   "source": [
    "X_test\n",
    "\n"
   ]
  },
  {
   "cell_type": "code",
   "execution_count": null,
   "id": "024c14ec",
   "metadata": {},
   "outputs": [],
   "source": []
  }
 ],
 "metadata": {
  "kernelspec": {
   "display_name": "Python 3 (ipykernel)",
   "language": "python",
   "name": "python3"
  },
  "language_info": {
   "codemirror_mode": {
    "name": "ipython",
    "version": 3
   },
   "file_extension": ".py",
   "mimetype": "text/x-python",
   "name": "python",
   "nbconvert_exporter": "python",
   "pygments_lexer": "ipython3",
   "version": "3.11.5"
  }
 },
 "nbformat": 4,
 "nbformat_minor": 5
}
